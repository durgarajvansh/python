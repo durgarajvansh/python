{
 "cells": [
  {
   "cell_type": "code",
   "execution_count": 20,
   "metadata": {},
   "outputs": [],
   "source": [
    "import requests\n",
    "from urllib.request import urlopen\n",
    "from bs4 import BeautifulSoup as soup"
   ]
  },
  {
   "cell_type": "code",
   "execution_count": 96,
   "metadata": {},
   "outputs": [],
   "source": [
    "httpobject=urlopen(\"https://www.flipkart.com/q/best-laptops-under-rs-50000\")\n",
    "webdata = httpobject.read()\n",
    "#print(webdata)"
   ]
  },
  {
   "cell_type": "code",
   "execution_count": 15,
   "metadata": {},
   "outputs": [
    {
     "data": {
      "text/plain": [
       "bs4.BeautifulSoup"
      ]
     },
     "execution_count": 15,
     "metadata": {},
     "output_type": "execute_result"
    }
   ],
   "source": [
    "soupdata = soup(webdata)\n",
    "type(soupdata)"
   ]
  },
  {
   "cell_type": "code",
   "execution_count": 21,
   "metadata": {},
   "outputs": [
    {
     "name": "stdout",
     "output_type": "stream",
     "text": [
      "<class 'bs4.element.ResultSet'> 24\n"
     ]
    }
   ],
   "source": [
    "containers=soupdata.findAll('div',{'class':'_2kHMtA'})\n",
    "print(type(containers),len(containers))"
   ]
  },
  {
   "cell_type": "code",
   "execution_count": 97,
   "metadata": {},
   "outputs": [
    {
     "name": "stdout",
     "output_type": "stream",
     "text": [
      "HP Ryzen 5 Hexa Core 5500U\n",
      "HP Ryzen 5 Hexa Core 5500U\n",
      "Lenovo IdeaPad 3 Ryzen 5 Hexa Core 5500U\n",
      "MSI Stealth 15M Core i7 11th Gen\n",
      "ASUS VivoBook 15 (2022) Core i5 11th Gen\n",
      "DELL Inspiron Core i3 11th Gen\n",
      "ASUS VivoBook 15 (2021) Core i5 10th Gen\n",
      "acer Aspire 7 Core i5 10th Gen\n",
      "ASUS VivoBook 15 (2022) Core i5 11th Gen\n",
      "HP Core i3 11th Gen\n",
      "ASUS VivoBook 14 (2022) Core i5 11th Gen\n",
      "MSI GF63 Thin Hexa Core i5 10th Gen\n",
      "HP 15s Ryzen 3 Dual Core 3250U\n",
      "acer Aspire 5 Core i5 11th Gen\n",
      "DELL Vostro Core i5 11th Gen\n",
      "MSI GF63 Thin Core i5 10th Gen\n",
      "DELL Inspiron Core i3 11th Gen\n",
      "acer Aspire 5 Core i5 11th Gen\n",
      "ASUS VivoBook 15 (2022) Core i5 10th Gen\n",
      "ASUS TUF Gaming F15 Core i5 10th Gen\n",
      "HP Core i3 11th Gen\n",
      "Lenovo IdeaPad 3 Core i5 10th Gen\n",
      "Lenovo Thinkpad Ryzen 5 Hexa Core 5600U\n",
      "ASUS ASUS TUF Gaming Core i5 11th Gen\n"
     ]
    }
   ],
   "source": [
    "for container in containers:\n",
    "    \n",
    "#model name of laptops\n",
    "    product = container.find('div',{'class':'_4rR01T'})\n",
    "    productName = product.text.split('-')[0].strip()\n",
    "    print(productName)"
   ]
  },
  {
   "cell_type": "code",
   "execution_count": 98,
   "metadata": {},
   "outputs": [
    {
     "name": "stdout",
     "output_type": "stream",
     "text": [
      "4.4\n",
      "4.4\n",
      "4.3\n",
      "4.2\n",
      "4.3\n",
      "4.3\n",
      "4.5\n",
      "4.4\n",
      "4.3\n",
      "4.4\n",
      "4.2\n",
      "4.4\n",
      "4.3\n",
      "4.2\n",
      "3.8\n",
      "4.1\n",
      "4.3\n",
      "4.3\n",
      "4.1\n",
      "4.4\n",
      "4.2\n",
      "4.1\n",
      "4.4\n",
      "4.5\n"
     ]
    }
   ],
   "source": [
    "for container in containers:\n",
    "    stars = container.find('div',{'class':'_3LWZlK'})\n",
    "    print(stars.text)"
   ]
  },
  {
   "cell_type": "code",
   "execution_count": 105,
   "metadata": {},
   "outputs": [
    {
     "name": "stdout",
     "output_type": "stream",
     "text": [
      "464 59\n",
      "181 23\n",
      "428 53\n",
      "26 4\n",
      "1,500 153\n",
      "1,020 132\n",
      "14 1\n",
      "12,023 1,298\n",
      "1,500 153\n",
      "48 5\n",
      "161 15\n",
      "2,872 299\n",
      "3,686 451\n",
      "211 23\n",
      "388 31\n",
      "1,160 145\n",
      "130 14\n",
      "43 4\n",
      "82 7\n",
      "3,993 394\n",
      "213 25\n",
      "200 19\n",
      "28 5\n",
      "461 56\n"
     ]
    }
   ],
   "source": [
    "for container in containers:\n",
    "    rating = container.find('span',{'class':'_2_R_DZ'})\n",
    "    ratRev = re.findall('\\d+,?\\d*',rating.text)\n",
    "    ratings = ratRev[0]\n",
    "    reviews = ratRev[1]\n",
    "    print(ratings,reviews)"
   ]
  },
  {
   "cell_type": "code",
   "execution_count": 106,
   "metadata": {},
   "outputs": [
    {
     "name": "stdout",
     "output_type": "stream",
     "text": [
      "₹48,990\n",
      "₹48,490\n",
      "₹48,990\n",
      "₹1,20,990\n",
      "₹48,990\n",
      "₹45,490\n",
      "₹45,990\n",
      "₹52,990\n",
      "₹47,990\n",
      "₹43,999\n",
      "₹49,990\n",
      "₹58,990\n",
      "₹41,490\n",
      "₹49,990\n",
      "₹49,990\n",
      "₹52,990\n",
      "₹46,990\n",
      "₹49,990\n",
      "₹45,990\n",
      "₹65,990\n",
      "₹40,990\n",
      "₹48,490\n",
      "₹56,990\n",
      "₹75,990\n"
     ]
    }
   ],
   "source": [
    "for container in containers:\n",
    "    currentPrice=container.find('div',{'class':'_30jeq3 _1_WHN1'})\n",
    "    print(currentPrice.text)"
   ]
  },
  {
   "cell_type": "code",
   "execution_count": 107,
   "metadata": {},
   "outputs": [
    {
     "name": "stdout",
     "output_type": "stream",
     "text": [
      "₹57,042\n",
      "₹60,959\n",
      "₹68,490\n",
      "₹1,62,990\n",
      "₹86,128\n",
      "₹57,479\n",
      "₹64,990\n",
      "₹89,999\n",
      "₹70,990\n",
      "₹52,900\n",
      "₹72,990\n",
      "₹76,990\n",
      "₹48,294\n",
      "₹75,999\n",
      "₹80,284\n",
      "₹72,990\n",
      "₹68,658\n",
      "₹64,999\n",
      "₹74,328\n",
      "₹89,990\n",
      "₹51,506\n",
      "₹64,290\n",
      "₹78,400\n",
      "₹1,16,990\n"
     ]
    }
   ],
   "source": [
    "for container in containers:\n",
    "    mrp = container.find('div',{'class','_3I9_wc _27UcVY'})\n",
    "    print(mrp.text)"
   ]
  },
  {
   "cell_type": "code",
   "execution_count": 108,
   "metadata": {},
   "outputs": [
    {
     "name": "stdout",
     "output_type": "stream",
     "text": [
      "AMD Ryzen 5 Hexa Core Processor 8 GB DDR4 RAM 512 GB SSD\n",
      "AMD Ryzen 5 Hexa Core Processor 8 GB DDR4 RAM 512 GB SSD\n",
      "AMD Ryzen 5 Hexa Core Processor 8 GB DDR4 RAM 512 GB SSD\n",
      "Intel Core i7 Processor (11th Gen) 16 GB DDR4 RAM 1 TB SSD\n",
      "Intel Core i5 Processor (11th Gen) 8 GB DDR4 RAM 1 TB HDD|256 GB SSD\n",
      "Intel Core i3 Processor (11th Gen) 8 GB DDR4 RAM 1 TB HDD|256 GB SSD\n",
      "Intel Core i5 Processor (10th Gen) 8 GB DDR4 RAM 512 GB SSD\n",
      "Free upgrade to Windows 11 when available Intel Core i5 Processor (10th Gen) 64 bit Windows 10 Operating System\n",
      "Intel Core i5 Processor (11th Gen) 8 GB DDR4 RAM 1 TB HDD|256 GB SSD\n",
      "Intel Core i3 Processor (11th Gen) 8 GB DDR4 RAM 512 GB SSD\n",
      "Intel Core i5 Processor (11th Gen) 8 GB DDR4 RAM 1 TB HDD|256 GB SSD\n",
      "Intel Hexa Core i5 Processor (10th Gen) 8 GB DDR4 RAM 1 TB HDD|256 GB SSD\n",
      "AMD Ryzen 3 Dual Core Processor 8 GB DDR4 RAM 1 TB HDD|256 GB SSD\n",
      "Intel Core i5 Processor (11th Gen) 8 GB DDR4 RAM 512 GB SSD\n",
      "Intel Core i5 Processor (11th Gen) 8 GB DDR4 RAM 1 TB HDD|256 GB SSD\n",
      "Intel Core i5 Processor (10th Gen) 8 GB DDR4 RAM 1 TB HDD\n",
      "Intel Core i3 Processor (11th Gen) 8 GB DDR4 RAM 256 GB SSD\n",
      "Intel Core i5 Processor (11th Gen) 8 GB DDR4 RAM 512 GB SSD\n",
      "Intel Core i5 Processor (10th Gen) 8 GB DDR4 RAM 512 GB SSD\n",
      "Intel Core i5 Processor (10th Gen) 8 GB DDR4 RAM 512 GB SSD\n",
      "Intel Core i3 Processor (11th Gen) 8 GB DDR4 RAM 512 GB SSD\n",
      "Intel Core i5 Processor (10th Gen) 8 GB DDR4 RAM 512 GB SSD\n",
      "AMD Ryzen 5 Hexa Core Processor 8 GB DDR4 RAM 512 GB SSD\n",
      "Intel Core i5 Processor (11th Gen) 8 GB DDR4 RAM 1 TB SSD\n"
     ]
    }
   ],
   "source": [
    "for container in containers:\n",
    "    info=container.findAll('li',{'class':'rgWa7D'})\n",
    "    processor = info[0].text\n",
    "    RAM = info[1].text\n",
    "    storage = info[3].text\n",
    "    print(processor,RAM,storage)"
   ]
  },
  {
   "cell_type": "code",
   "execution_count": null,
   "metadata": {},
   "outputs": [],
   "source": [
    "for container in containers:\n",
    "    image = container.img\n",
    "    imageUrl=image.get('src')\n",
    "    print(imageUrl)"
   ]
  },
  {
   "cell_type": "code",
   "execution_count": 94,
   "metadata": {},
   "outputs": [
    {
     "name": "stdout",
     "output_type": "stream",
     "text": [
      "HP Ryzen 5 Hexa Core 5500U 4.4 464 59 ₹48990 ₹57042 AMD Ryzen 5 Hexa Core Processor 8 GB DDR4 RAM 512 GB SSD https://rukminim1.flixcart.com/image/312/312/l2rwzgw0/computer/m/k/o/-original-imagefmhxu9rmfjq.jpeg?q=70\n",
      "\n",
      "\n",
      "HP Ryzen 5 Hexa Core 5500U 4.4 181 23 ₹48490 ₹60959 AMD Ryzen 5 Hexa Core Processor 8 GB DDR4 RAM 512 GB SSD https://rukminim1.flixcart.com/image/312/312/kzrbiq80/computer/q/w/v/15s-eq2144au-thin-and-light-laptop-hp-original-imagbpb2qzqx6knt.jpeg?q=70\n",
      "\n",
      "\n",
      "Lenovo IdeaPad 3 Ryzen 5 Hexa Core 5500U 4.3 428 53 ₹48990 ₹68490 AMD Ryzen 5 Hexa Core Processor 8 GB DDR4 RAM 512 GB SSD https://rukminim1.flixcart.com/image/312/312/keaaavk0/computer/x/m/y/lenovo-na-laptop-original-imafuzt8r5jqppfn.jpeg?q=70\n",
      "\n",
      "\n",
      "MSI Stealth 15M Core i7 11th Gen 4.2 26 4 ₹120990 ₹162990 Intel Core i7 Processor (11th Gen) 16 GB DDR4 RAM 1 TB SSD https://rukminim1.flixcart.com/image/312/312/ko7idu80/computer/i/h/u/stealth-15m-a11uek-227in-notebook-msi-original-imag2q57shrhyszs.jpeg?q=70\n",
      "\n",
      "\n",
      "ASUS VivoBook 15 (2022) Core i5 11th Gen 4.3 1500 153 ₹48990 ₹86128 Intel Core i5 Processor (11th Gen) 8 GB DDR4 RAM 1 TB HDD|256 GB SSD https://rukminim1.flixcart.com/image/312/312/kp2y2kw0/computer/y/0/c/na-thin-and-light-laptop-asus-original-imag3ebnzawky4kn.jpeg?q=70\n",
      "\n",
      "\n",
      "DELL Inspiron Core i3 11th Gen 4.3 1020 132 ₹45490 ₹57479 Intel Core i3 Processor (11th Gen) 8 GB DDR4 RAM 1 TB HDD|256 GB SSD https://rukminim1.flixcart.com/image/312/312/kt8zb0w0/computer/n/m/v/inspiron-3511-thin-and-light-laptop-dell-original-imag6n5kbmfcgxk6.jpeg?q=70\n",
      "\n",
      "\n",
      "ASUS VivoBook 15 (2021) Core i5 10th Gen 4.5 14 1 ₹45990 ₹64990 Intel Core i5 Processor (10th Gen) 8 GB DDR4 RAM 512 GB SSD https://rukminim1.flixcart.com/image/312/312/kp2y2kw0/computer/y/0/c/na-thin-and-light-laptop-asus-original-imag3ebnzawky4kn.jpeg?q=70\n",
      "\n",
      "\n",
      "acer Aspire 7 Core i5 10th Gen 4.4 12023 1298 ₹52990 ₹89999 Free upgrade to Windows 11 when available Intel Core i5 Processor (10th Gen) 64 bit Windows 10 Operating System https://rukminim1.flixcart.com/image/312/312/kp1imq80/computer/u/b/z/na-gaming-laptop-acer-original-imag3d63hk3h8nm2.jpeg?q=70\n",
      "\n",
      "\n",
      "ASUS VivoBook 15 (2022) Core i5 11th Gen 4.3 1500 153 ₹47990 ₹70990 Intel Core i5 Processor (11th Gen) 8 GB DDR4 RAM 1 TB HDD|256 GB SSD https://rukminim1.flixcart.com/image/312/312/kp2y2kw0/computer/y/0/c/na-thin-and-light-laptop-asus-original-imag3ebnzawky4kn.jpeg?q=70\n",
      "\n",
      "\n",
      "HP Core i3 11th Gen 4.4 48 5 ₹43999 ₹52900 Intel Core i3 Processor (11th Gen) 8 GB DDR4 RAM 512 GB SSD https://rukminim1.flixcart.com/image/312/312/l0zm64w0/computer/k/h/m/14s-dq2606tu-thin-and-light-laptop-hp-original-imagcnsfnrzvzbs6.jpeg?q=70\n",
      "\n",
      "\n",
      "ASUS VivoBook 14 (2022) Core i5 11th Gen 4.2 161 15 ₹49990 ₹72990 Intel Core i5 Processor (11th Gen) 8 GB DDR4 RAM 1 TB HDD|256 GB SSD https://rukminim1.flixcart.com/image/312/312/l2m78280/computer/z/e/f/-original-imagdx9szs8xz2rk.jpeg?q=70\n",
      "\n",
      "\n",
      "MSI GF63 Thin Hexa Core i5 10th Gen 4.4 2872 299 ₹58990 ₹76990 Intel Hexa Core i5 Processor (10th Gen) 8 GB DDR4 RAM 1 TB HDD|256 GB SSD https://rukminim1.flixcart.com/image/312/312/ko7idu80/computer/x/l/i/gf63-thin-10scxr-1616in-notebook-msi-original-imag2q55h6w2avfr.jpeg?q=70\n",
      "\n",
      "\n",
      "HP 15s Ryzen 3 Dual Core 3250U 4.3 3686 451 ₹41490 ₹48294 AMD Ryzen 3 Dual Core Processor 8 GB DDR4 RAM 1 TB HDD|256 GB SSD https://rukminim1.flixcart.com/image/312/312/kk2wl8w0/computer/z/u/5/hp-original-imafzgdgcbtxvjka.jpeg?q=70\n",
      "\n",
      "\n",
      "acer Aspire 5 Core i5 11th Gen 4.2 211 23 ₹49990 ₹75999 Intel Core i5 Processor (11th Gen) 8 GB DDR4 RAM 512 GB SSD https://rukminim1.flixcart.com/image/312/312/kruyw7k0/computer/b/6/w/aspire-5-thin-and-light-laptop-acer-original-imag5k3stszyggb3.jpeg?q=70\n",
      "\n",
      "\n",
      "DELL Vostro Core i5 11th Gen 3.8 388 31 ₹49990 ₹80284 Intel Core i5 Processor (11th Gen) 8 GB DDR4 RAM 1 TB HDD|256 GB SSD https://rukminim1.flixcart.com/image/312/312/ku5ufm80/computer/w/a/9/na-thin-and-light-laptop-dell-original-imag7cstqdg5hgzg.jpeg?q=70\n",
      "\n",
      "\n",
      "MSI GF63 Thin Core i5 10th Gen 4.1 1160 145 ₹52990 ₹72990 Intel Core i5 Processor (10th Gen) 8 GB DDR4 RAM 1 TB HDD https://rukminim1.flixcart.com/image/312/312/ko7idu80/computer/x/l/i/gf63-thin-10scxr-1616in-notebook-msi-original-imag2q55h6w2avfr.jpeg?q=70\n",
      "\n",
      "\n",
      "DELL Inspiron Core i3 11th Gen 4.3 130 14 ₹46990 ₹68658 Intel Core i3 Processor (11th Gen) 8 GB DDR4 RAM 256 GB SSD https://rukminim1.flixcart.com/image/312/312/kod858w0/computer/a/a/i/na-2-in-1-laptop-dell-original-imag2ueajx2uhvcg.jpeg?q=70\n",
      "\n",
      "\n",
      "acer Aspire 5 Core i5 11th Gen 4.3 43 4 ₹49990 ₹64999 Intel Core i5 Processor (11th Gen) 8 GB DDR4 RAM 512 GB SSD https://rukminim1.flixcart.com/image/312/312/kybvo280/computer/6/u/v/-original-imagah7xakzzergf.jpeg?q=70\n",
      "\n",
      "\n",
      "ASUS VivoBook 15 (2022) Core i5 10th Gen 4.1 82 7 ₹45990 ₹74328 Intel Core i5 Processor (10th Gen) 8 GB DDR4 RAM 512 GB SSD https://rukminim1.flixcart.com/image/312/312/kp2y2kw0/computer/y/0/c/na-thin-and-light-laptop-asus-original-imag3ebnzawky4kn.jpeg?q=70\n",
      "\n",
      "\n",
      "ASUS TUF Gaming F15 Core i5 10th Gen 4.4 3993 394 ₹65990 ₹89990 Intel Core i5 Processor (10th Gen) 8 GB DDR4 RAM 512 GB SSD https://rukminim1.flixcart.com/image/312/312/l3rmzrk0/computer/s/z/r/-original-imagetgzg4pgszmt.jpeg?q=70\n",
      "\n",
      "\n",
      "HP Core i3 11th Gen 4.2 213 25 ₹40990 ₹51506 Intel Core i3 Processor (11th Gen) 8 GB DDR4 RAM 512 GB SSD https://rukminim1.flixcart.com/image/312/312/kzrbiq80/computer/v/d/d/15s-fq2626tu-thin-and-light-laptop-hp-original-imagbpb2sztfprgz.jpeg?q=70\n",
      "\n",
      "\n",
      "Lenovo IdeaPad 3 Core i5 10th Gen 4.1 200 19 ₹48490 ₹64290 Intel Core i5 Processor (10th Gen) 8 GB DDR4 RAM 512 GB SSD https://rukminim1.flixcart.com/image/312/312/keaaavk0/computer/x/m/y/lenovo-na-laptop-original-imafuzt8r5jqppfn.jpeg?q=70\n",
      "\n",
      "\n",
      "Lenovo Thinkpad Ryzen 5 Hexa Core 5600U 4.4 28 5 ₹56990 ₹78400 AMD Ryzen 5 Hexa Core Processor 8 GB DDR4 RAM 512 GB SSD https://rukminim1.flixcart.com/image/312/312/ktuewsw0/computer/3/u/j/e14-amd-gen-3-thin-and-light-laptop-lenovo-original-imag73utqsnfzf6f.jpeg?q=70\n",
      "\n",
      "\n",
      "ASUS ASUS TUF Gaming Core i5 11th Gen 4.5 461 56 ₹75990 ₹116990 Intel Core i5 Processor (11th Gen) 8 GB DDR4 RAM 1 TB SSD https://rukminim1.flixcart.com/image/312/312/l3rmzrk0/computer/2/o/q/-original-imagetjfvgfsm24g.jpeg?q=70\n",
      "\n",
      "\n"
     ]
    }
   ],
   "source": [
    "f = open('laptops_info.csv','wb')\n",
    "f.write('productName,Stars,ratings,reviews,CurrentPrice,MRP,processor,RAM,storage,imageUrl\\n'.encode())\n",
    "\n",
    "\n",
    "for container in containers:\n",
    "    \n",
    "#model name of laptops\n",
    "    product = container.find('div',{'class':'_4rR01T'})\n",
    "    productName = product.text.split('-')[0].strip()\n",
    "    \n",
    "    \n",
    "    \n",
    "    \n",
    "    \n",
    "#stars\n",
    "\n",
    "    stars = container.find('div',{'class':'_3LWZlK'})\n",
    "    Stars=stars.text\n",
    "\n",
    "\n",
    "        \n",
    "        \n",
    "        \n",
    "#rating and reviews\n",
    "\n",
    "    rating = container.find('span',{'class':'_2_R_DZ'})\n",
    "    Rating = rating.text.replace(',','')\n",
    "    ratRev = re.findall('\\d+,?\\d*',Rating)\n",
    "    ratings = ratRev[0]\n",
    "    reviews = ratRev[1]\n",
    "    \n",
    "    \n",
    "    \n",
    "    \n",
    "    \n",
    "#current price\n",
    "\n",
    "    currentPrice=container.find('div',{'class':'_30jeq3 _1_WHN1'})\n",
    "    CurrentPrice = currentPrice.text.replace(',','')\n",
    "    \n",
    "    \n",
    "    \n",
    "    \n",
    "    \n",
    "#for mrp\n",
    "\n",
    "    mrp = container.find('div',{'class','_3I9_wc _27UcVY'})\n",
    "    MRP = mrp.text.replace(',','')\n",
    "    \n",
    "  \n",
    "\n",
    "\n",
    "    \n",
    "#info of laptops\n",
    "\n",
    "    info=container.findAll('li',{'class':'rgWa7D'})\n",
    "    processor = info[0].text\n",
    "    RAM = info[1].text\n",
    "    storage = info[3].text\n",
    "    \n",
    "    \n",
    "    \n",
    "    \n",
    "#image of laptop\n",
    "    image = container.img\n",
    "    imageUrl=image.get('src')\n",
    "    \n",
    "    \n",
    "    print(productName,Stars,ratings,reviews,CurrentPrice,MRP,processor,RAM,storage,imageUrl)\n",
    "    print('\\n')\n",
    "    f.write(f'{productName},{Stars},{ratings},{reviews},{CurrentPrice},{MRP},{processor},{RAM},{storage},{imageUrl}'.encode())\n",
    "\n",
    "f.close()"
   ]
  },
  {
   "cell_type": "code",
   "execution_count": null,
   "metadata": {},
   "outputs": [],
   "source": []
  }
 ],
 "metadata": {
  "kernelspec": {
   "display_name": "Python 3",
   "language": "python",
   "name": "python3"
  },
  "language_info": {
   "codemirror_mode": {
    "name": "ipython",
    "version": 3
   },
   "file_extension": ".py",
   "mimetype": "text/x-python",
   "name": "python",
   "nbconvert_exporter": "python",
   "pygments_lexer": "ipython3",
   "version": "3.8.3"
  }
 },
 "nbformat": 4,
 "nbformat_minor": 4
}
